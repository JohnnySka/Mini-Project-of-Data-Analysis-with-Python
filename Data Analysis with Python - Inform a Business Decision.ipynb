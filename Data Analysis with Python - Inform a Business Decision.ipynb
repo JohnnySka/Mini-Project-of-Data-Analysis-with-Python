{
 "cells": [
  {
   "cell_type": "markdown",
   "id": "23743bf8-c007-4229-8c2e-791fc2b6988f",
   "metadata": {},
   "source": [
    "## Data Analysis with Python: Inform a Business Decision\n",
    "## (Guided Data Analysis Project)"
   ]
  },
  {
   "cell_type": "markdown",
   "id": "1d0bf067-191a-46c5-8393-4b5549002e7e",
   "metadata": {},
   "source": [
    "##"
   ]
  },
  {
   "cell_type": "markdown",
   "id": "ef561b1b-d7f4-4d98-a5c1-181f4ed5f3a3",
   "metadata": {
    "tags": []
   },
   "source": [
    "## Senario A:\n",
    "## We want to promote Airbnb units that:\n",
    "## 1. cost $100 or less per night\n",
    "## 2. don't require more than a 2-night minimum stay\n",
    "## 3. have at least 100 reviews\n",
    "## 4. are available at least 180 days per year"
   ]
  },
  {
   "cell_type": "markdown",
   "id": "b3c57a94-9aeb-4c6e-ab3a-ce0e13f4a9da",
   "metadata": {},
   "source": [
    "##"
   ]
  },
  {
   "cell_type": "markdown",
   "id": "0b5d3ec6-2f03-41ce-af9f-fc272413675f",
   "metadata": {},
   "source": [
    "### Task 1\n",
    "### Import Airbnb data from the New York csv"
   ]
  },
  {
   "cell_type": "code",
   "execution_count": 1,
   "id": "9a6b6112-e8c1-4a3b-8fc8-665856c23dc7",
   "metadata": {
    "tags": []
   },
   "outputs": [],
   "source": [
    "import pandas as pd\n",
    "import seaborn as sns\n",
    "import matplotlib.pyplot as plt"
   ]
  },
  {
   "cell_type": "code",
   "execution_count": 2,
   "id": "d33691d8-d9f2-4268-ba5c-3da441c5f4da",
   "metadata": {
    "tags": []
   },
   "outputs": [],
   "source": [
    "df = pd.read_csv(r\"C:\\Users\\ska_p\\OneDrive\\Desktop\\Coursera Courses and Degrees\\Guided Project - Data Analysis with Python - Inform a Business Decision\\data/AB_NYC_2019.csv\")"
   ]
  },
  {
   "cell_type": "code",
   "execution_count": 3,
   "id": "0c3b776c-0114-4e6d-aab4-cc64f6d6e385",
   "metadata": {
    "tags": []
   },
   "outputs": [
    {
     "data": {
      "text/html": [
       "<div>\n",
       "<style scoped>\n",
       "    .dataframe tbody tr th:only-of-type {\n",
       "        vertical-align: middle;\n",
       "    }\n",
       "\n",
       "    .dataframe tbody tr th {\n",
       "        vertical-align: top;\n",
       "    }\n",
       "\n",
       "    .dataframe thead th {\n",
       "        text-align: right;\n",
       "    }\n",
       "</style>\n",
       "<table border=\"1\" class=\"dataframe\">\n",
       "  <thead>\n",
       "    <tr style=\"text-align: right;\">\n",
       "      <th></th>\n",
       "      <th>id</th>\n",
       "      <th>name</th>\n",
       "      <th>host_id</th>\n",
       "      <th>host_name</th>\n",
       "      <th>neighbourhood_group</th>\n",
       "      <th>neighbourhood</th>\n",
       "      <th>latitude</th>\n",
       "      <th>longitude</th>\n",
       "      <th>room_type</th>\n",
       "      <th>price</th>\n",
       "      <th>minimum_nights</th>\n",
       "      <th>number_of_reviews</th>\n",
       "      <th>last_review</th>\n",
       "      <th>reviews_per_month</th>\n",
       "      <th>calculated_host_listings_count</th>\n",
       "      <th>availability_365</th>\n",
       "    </tr>\n",
       "  </thead>\n",
       "  <tbody>\n",
       "    <tr>\n",
       "      <th>0</th>\n",
       "      <td>2539</td>\n",
       "      <td>Clean &amp; quiet apt home by the park</td>\n",
       "      <td>2787</td>\n",
       "      <td>John</td>\n",
       "      <td>Brooklyn</td>\n",
       "      <td>Kensington</td>\n",
       "      <td>40.64749</td>\n",
       "      <td>-73.97237</td>\n",
       "      <td>Private room</td>\n",
       "      <td>149</td>\n",
       "      <td>1</td>\n",
       "      <td>9</td>\n",
       "      <td>2018-10-19</td>\n",
       "      <td>0.21</td>\n",
       "      <td>6</td>\n",
       "      <td>365</td>\n",
       "    </tr>\n",
       "    <tr>\n",
       "      <th>1</th>\n",
       "      <td>2595</td>\n",
       "      <td>Skylit Midtown Castle</td>\n",
       "      <td>2845</td>\n",
       "      <td>Jennifer</td>\n",
       "      <td>Manhattan</td>\n",
       "      <td>Midtown</td>\n",
       "      <td>40.75362</td>\n",
       "      <td>-73.98377</td>\n",
       "      <td>Entire home/apt</td>\n",
       "      <td>225</td>\n",
       "      <td>1</td>\n",
       "      <td>45</td>\n",
       "      <td>2019-05-21</td>\n",
       "      <td>0.38</td>\n",
       "      <td>2</td>\n",
       "      <td>355</td>\n",
       "    </tr>\n",
       "    <tr>\n",
       "      <th>2</th>\n",
       "      <td>3647</td>\n",
       "      <td>THE VILLAGE OF HARLEM....NEW YORK !</td>\n",
       "      <td>4632</td>\n",
       "      <td>Elisabeth</td>\n",
       "      <td>Manhattan</td>\n",
       "      <td>Harlem</td>\n",
       "      <td>40.80902</td>\n",
       "      <td>-73.94190</td>\n",
       "      <td>Private room</td>\n",
       "      <td>150</td>\n",
       "      <td>3</td>\n",
       "      <td>0</td>\n",
       "      <td>NaN</td>\n",
       "      <td>NaN</td>\n",
       "      <td>1</td>\n",
       "      <td>365</td>\n",
       "    </tr>\n",
       "    <tr>\n",
       "      <th>3</th>\n",
       "      <td>3831</td>\n",
       "      <td>Cozy Entire Floor of Brownstone</td>\n",
       "      <td>4869</td>\n",
       "      <td>LisaRoxanne</td>\n",
       "      <td>Brooklyn</td>\n",
       "      <td>Clinton Hill</td>\n",
       "      <td>40.68514</td>\n",
       "      <td>-73.95976</td>\n",
       "      <td>Entire home/apt</td>\n",
       "      <td>89</td>\n",
       "      <td>1</td>\n",
       "      <td>270</td>\n",
       "      <td>2019-07-05</td>\n",
       "      <td>4.64</td>\n",
       "      <td>1</td>\n",
       "      <td>194</td>\n",
       "    </tr>\n",
       "    <tr>\n",
       "      <th>4</th>\n",
       "      <td>5022</td>\n",
       "      <td>Entire Apt: Spacious Studio/Loft by central park</td>\n",
       "      <td>7192</td>\n",
       "      <td>Laura</td>\n",
       "      <td>Manhattan</td>\n",
       "      <td>East Harlem</td>\n",
       "      <td>40.79851</td>\n",
       "      <td>-73.94399</td>\n",
       "      <td>Entire home/apt</td>\n",
       "      <td>80</td>\n",
       "      <td>10</td>\n",
       "      <td>9</td>\n",
       "      <td>2018-11-19</td>\n",
       "      <td>0.10</td>\n",
       "      <td>1</td>\n",
       "      <td>0</td>\n",
       "    </tr>\n",
       "  </tbody>\n",
       "</table>\n",
       "</div>"
      ],
      "text/plain": [
       "     id                                              name  host_id  \\\n",
       "0  2539                Clean & quiet apt home by the park     2787   \n",
       "1  2595                             Skylit Midtown Castle     2845   \n",
       "2  3647               THE VILLAGE OF HARLEM....NEW YORK !     4632   \n",
       "3  3831                   Cozy Entire Floor of Brownstone     4869   \n",
       "4  5022  Entire Apt: Spacious Studio/Loft by central park     7192   \n",
       "\n",
       "     host_name neighbourhood_group neighbourhood  latitude  longitude  \\\n",
       "0         John            Brooklyn    Kensington  40.64749  -73.97237   \n",
       "1     Jennifer           Manhattan       Midtown  40.75362  -73.98377   \n",
       "2    Elisabeth           Manhattan        Harlem  40.80902  -73.94190   \n",
       "3  LisaRoxanne            Brooklyn  Clinton Hill  40.68514  -73.95976   \n",
       "4        Laura           Manhattan   East Harlem  40.79851  -73.94399   \n",
       "\n",
       "         room_type  price  minimum_nights  number_of_reviews last_review  \\\n",
       "0     Private room    149               1                  9  2018-10-19   \n",
       "1  Entire home/apt    225               1                 45  2019-05-21   \n",
       "2     Private room    150               3                  0         NaN   \n",
       "3  Entire home/apt     89               1                270  2019-07-05   \n",
       "4  Entire home/apt     80              10                  9  2018-11-19   \n",
       "\n",
       "   reviews_per_month  calculated_host_listings_count  availability_365  \n",
       "0               0.21                               6               365  \n",
       "1               0.38                               2               355  \n",
       "2                NaN                               1               365  \n",
       "3               4.64                               1               194  \n",
       "4               0.10                               1                 0  "
      ]
     },
     "execution_count": 3,
     "metadata": {},
     "output_type": "execute_result"
    }
   ],
   "source": [
    "# Inspecting the data\n",
    "df.head()"
   ]
  },
  {
   "cell_type": "code",
   "execution_count": 4,
   "id": "7b52dfc3-17ef-4cee-a21a-88248f8fab43",
   "metadata": {
    "tags": []
   },
   "outputs": [
    {
     "name": "stdout",
     "output_type": "stream",
     "text": [
      "<class 'pandas.core.frame.DataFrame'>\n",
      "RangeIndex: 48895 entries, 0 to 48894\n",
      "Data columns (total 16 columns):\n",
      " #   Column                          Non-Null Count  Dtype  \n",
      "---  ------                          --------------  -----  \n",
      " 0   id                              48895 non-null  int64  \n",
      " 1   name                            48879 non-null  object \n",
      " 2   host_id                         48895 non-null  int64  \n",
      " 3   host_name                       48874 non-null  object \n",
      " 4   neighbourhood_group             48895 non-null  object \n",
      " 5   neighbourhood                   48895 non-null  object \n",
      " 6   latitude                        48895 non-null  float64\n",
      " 7   longitude                       48895 non-null  float64\n",
      " 8   room_type                       48895 non-null  object \n",
      " 9   price                           48895 non-null  int64  \n",
      " 10  minimum_nights                  48895 non-null  int64  \n",
      " 11  number_of_reviews               48895 non-null  int64  \n",
      " 12  last_review                     38843 non-null  object \n",
      " 13  reviews_per_month               38843 non-null  float64\n",
      " 14  calculated_host_listings_count  48895 non-null  int64  \n",
      " 15  availability_365                48895 non-null  int64  \n",
      "dtypes: float64(3), int64(7), object(6)\n",
      "memory usage: 6.0+ MB\n"
     ]
    }
   ],
   "source": [
    "# Getting some more information about the dataframe\n",
    "df.info()"
   ]
  },
  {
   "cell_type": "markdown",
   "id": "06f9118f-4897-41a9-94be-e9621e97773b",
   "metadata": {},
   "source": [
    "##"
   ]
  },
  {
   "cell_type": "markdown",
   "id": "7bb2796b-59db-4588-b3e7-4af0dbc9733b",
   "metadata": {},
   "source": [
    "### Task 2\n",
    "### Remove rows and columns that are not needed for our purposes\n",
    "### Clean and format the data as necessary"
   ]
  },
  {
   "cell_type": "code",
   "execution_count": 5,
   "id": "46376a0e-69d1-4c95-a2ef-94b28cbe055d",
   "metadata": {
    "tags": []
   },
   "outputs": [],
   "source": [
    "# Dropping some columns that are not needed, at first glance\n",
    "droplist = [\"host_name\", \"neighbourhood\", \"latitude\", \"longitude\", \"room_type\", \"calculated_host_listings_count\", \"reviews_per_month\"]"
   ]
  },
  {
   "cell_type": "code",
   "execution_count": 6,
   "id": "2532655a-715f-4be2-964e-5eff837d84bb",
   "metadata": {
    "tags": []
   },
   "outputs": [],
   "source": [
    "df.drop(droplist, axis=1, inplace=True)"
   ]
  },
  {
   "cell_type": "code",
   "execution_count": 7,
   "id": "05296c37-be07-40ba-ad12-888d37db9960",
   "metadata": {
    "tags": []
   },
   "outputs": [
    {
     "data": {
      "text/html": [
       "<div>\n",
       "<style scoped>\n",
       "    .dataframe tbody tr th:only-of-type {\n",
       "        vertical-align: middle;\n",
       "    }\n",
       "\n",
       "    .dataframe tbody tr th {\n",
       "        vertical-align: top;\n",
       "    }\n",
       "\n",
       "    .dataframe thead th {\n",
       "        text-align: right;\n",
       "    }\n",
       "</style>\n",
       "<table border=\"1\" class=\"dataframe\">\n",
       "  <thead>\n",
       "    <tr style=\"text-align: right;\">\n",
       "      <th></th>\n",
       "      <th>id</th>\n",
       "      <th>name</th>\n",
       "      <th>host_id</th>\n",
       "      <th>neighbourhood_group</th>\n",
       "      <th>price</th>\n",
       "      <th>minimum_nights</th>\n",
       "      <th>number_of_reviews</th>\n",
       "      <th>last_review</th>\n",
       "      <th>availability_365</th>\n",
       "    </tr>\n",
       "  </thead>\n",
       "  <tbody>\n",
       "    <tr>\n",
       "      <th>0</th>\n",
       "      <td>2539</td>\n",
       "      <td>Clean &amp; quiet apt home by the park</td>\n",
       "      <td>2787</td>\n",
       "      <td>Brooklyn</td>\n",
       "      <td>149</td>\n",
       "      <td>1</td>\n",
       "      <td>9</td>\n",
       "      <td>2018-10-19</td>\n",
       "      <td>365</td>\n",
       "    </tr>\n",
       "    <tr>\n",
       "      <th>1</th>\n",
       "      <td>2595</td>\n",
       "      <td>Skylit Midtown Castle</td>\n",
       "      <td>2845</td>\n",
       "      <td>Manhattan</td>\n",
       "      <td>225</td>\n",
       "      <td>1</td>\n",
       "      <td>45</td>\n",
       "      <td>2019-05-21</td>\n",
       "      <td>355</td>\n",
       "    </tr>\n",
       "    <tr>\n",
       "      <th>2</th>\n",
       "      <td>3647</td>\n",
       "      <td>THE VILLAGE OF HARLEM....NEW YORK !</td>\n",
       "      <td>4632</td>\n",
       "      <td>Manhattan</td>\n",
       "      <td>150</td>\n",
       "      <td>3</td>\n",
       "      <td>0</td>\n",
       "      <td>NaN</td>\n",
       "      <td>365</td>\n",
       "    </tr>\n",
       "    <tr>\n",
       "      <th>3</th>\n",
       "      <td>3831</td>\n",
       "      <td>Cozy Entire Floor of Brownstone</td>\n",
       "      <td>4869</td>\n",
       "      <td>Brooklyn</td>\n",
       "      <td>89</td>\n",
       "      <td>1</td>\n",
       "      <td>270</td>\n",
       "      <td>2019-07-05</td>\n",
       "      <td>194</td>\n",
       "    </tr>\n",
       "    <tr>\n",
       "      <th>4</th>\n",
       "      <td>5022</td>\n",
       "      <td>Entire Apt: Spacious Studio/Loft by central park</td>\n",
       "      <td>7192</td>\n",
       "      <td>Manhattan</td>\n",
       "      <td>80</td>\n",
       "      <td>10</td>\n",
       "      <td>9</td>\n",
       "      <td>2018-11-19</td>\n",
       "      <td>0</td>\n",
       "    </tr>\n",
       "    <tr>\n",
       "      <th>...</th>\n",
       "      <td>...</td>\n",
       "      <td>...</td>\n",
       "      <td>...</td>\n",
       "      <td>...</td>\n",
       "      <td>...</td>\n",
       "      <td>...</td>\n",
       "      <td>...</td>\n",
       "      <td>...</td>\n",
       "      <td>...</td>\n",
       "    </tr>\n",
       "    <tr>\n",
       "      <th>48890</th>\n",
       "      <td>36484665</td>\n",
       "      <td>Charming one bedroom - newly renovated rowhouse</td>\n",
       "      <td>8232441</td>\n",
       "      <td>Brooklyn</td>\n",
       "      <td>70</td>\n",
       "      <td>2</td>\n",
       "      <td>0</td>\n",
       "      <td>NaN</td>\n",
       "      <td>9</td>\n",
       "    </tr>\n",
       "    <tr>\n",
       "      <th>48891</th>\n",
       "      <td>36485057</td>\n",
       "      <td>Affordable room in Bushwick/East Williamsburg</td>\n",
       "      <td>6570630</td>\n",
       "      <td>Brooklyn</td>\n",
       "      <td>40</td>\n",
       "      <td>4</td>\n",
       "      <td>0</td>\n",
       "      <td>NaN</td>\n",
       "      <td>36</td>\n",
       "    </tr>\n",
       "    <tr>\n",
       "      <th>48892</th>\n",
       "      <td>36485431</td>\n",
       "      <td>Sunny Studio at Historical Neighborhood</td>\n",
       "      <td>23492952</td>\n",
       "      <td>Manhattan</td>\n",
       "      <td>115</td>\n",
       "      <td>10</td>\n",
       "      <td>0</td>\n",
       "      <td>NaN</td>\n",
       "      <td>27</td>\n",
       "    </tr>\n",
       "    <tr>\n",
       "      <th>48893</th>\n",
       "      <td>36485609</td>\n",
       "      <td>43rd St. Time Square-cozy single bed</td>\n",
       "      <td>30985759</td>\n",
       "      <td>Manhattan</td>\n",
       "      <td>55</td>\n",
       "      <td>1</td>\n",
       "      <td>0</td>\n",
       "      <td>NaN</td>\n",
       "      <td>2</td>\n",
       "    </tr>\n",
       "    <tr>\n",
       "      <th>48894</th>\n",
       "      <td>36487245</td>\n",
       "      <td>Trendy duplex in the very heart of Hell's Kitchen</td>\n",
       "      <td>68119814</td>\n",
       "      <td>Manhattan</td>\n",
       "      <td>90</td>\n",
       "      <td>7</td>\n",
       "      <td>0</td>\n",
       "      <td>NaN</td>\n",
       "      <td>23</td>\n",
       "    </tr>\n",
       "  </tbody>\n",
       "</table>\n",
       "<p>48895 rows × 9 columns</p>\n",
       "</div>"
      ],
      "text/plain": [
       "             id                                               name   host_id  \\\n",
       "0          2539                 Clean & quiet apt home by the park      2787   \n",
       "1          2595                              Skylit Midtown Castle      2845   \n",
       "2          3647                THE VILLAGE OF HARLEM....NEW YORK !      4632   \n",
       "3          3831                    Cozy Entire Floor of Brownstone      4869   \n",
       "4          5022   Entire Apt: Spacious Studio/Loft by central park      7192   \n",
       "...         ...                                                ...       ...   \n",
       "48890  36484665    Charming one bedroom - newly renovated rowhouse   8232441   \n",
       "48891  36485057      Affordable room in Bushwick/East Williamsburg   6570630   \n",
       "48892  36485431            Sunny Studio at Historical Neighborhood  23492952   \n",
       "48893  36485609               43rd St. Time Square-cozy single bed  30985759   \n",
       "48894  36487245  Trendy duplex in the very heart of Hell's Kitchen  68119814   \n",
       "\n",
       "      neighbourhood_group  price  minimum_nights  number_of_reviews  \\\n",
       "0                Brooklyn    149               1                  9   \n",
       "1               Manhattan    225               1                 45   \n",
       "2               Manhattan    150               3                  0   \n",
       "3                Brooklyn     89               1                270   \n",
       "4               Manhattan     80              10                  9   \n",
       "...                   ...    ...             ...                ...   \n",
       "48890            Brooklyn     70               2                  0   \n",
       "48891            Brooklyn     40               4                  0   \n",
       "48892           Manhattan    115              10                  0   \n",
       "48893           Manhattan     55               1                  0   \n",
       "48894           Manhattan     90               7                  0   \n",
       "\n",
       "      last_review  availability_365  \n",
       "0      2018-10-19               365  \n",
       "1      2019-05-21               355  \n",
       "2             NaN               365  \n",
       "3      2019-07-05               194  \n",
       "4      2018-11-19                 0  \n",
       "...           ...               ...  \n",
       "48890         NaN                 9  \n",
       "48891         NaN                36  \n",
       "48892         NaN                27  \n",
       "48893         NaN                 2  \n",
       "48894         NaN                23  \n",
       "\n",
       "[48895 rows x 9 columns]"
      ]
     },
     "execution_count": 7,
     "metadata": {},
     "output_type": "execute_result"
    }
   ],
   "source": [
    "df"
   ]
  },
  {
   "cell_type": "code",
   "execution_count": 8,
   "id": "8ab87275-0418-48d2-8512-3266bc3a52d9",
   "metadata": {
    "tags": []
   },
   "outputs": [
    {
     "data": {
      "text/plain": [
       "id                         0\n",
       "name                      16\n",
       "host_id                    0\n",
       "neighbourhood_group        0\n",
       "price                      0\n",
       "minimum_nights             0\n",
       "number_of_reviews          0\n",
       "last_review            10052\n",
       "availability_365           0\n",
       "dtype: int64"
      ]
     },
     "execution_count": 8,
     "metadata": {},
     "output_type": "execute_result"
    }
   ],
   "source": [
    "# Checking for empty data entries\n",
    "df.isnull().sum()"
   ]
  },
  {
   "cell_type": "code",
   "execution_count": 9,
   "id": "6aba7c00-886c-4793-9297-b81734ee883e",
   "metadata": {
    "tags": []
   },
   "outputs": [],
   "source": [
    "# The \"last_review\" column seems to have quite a lot of missing values\n",
    "# Removing these rows might skew the results, since the rest of the entries seem to be ok\n",
    "# Probably a much better idea to drop this column as well\n",
    "df.drop(columns=[\"last_review\"], inplace=True)"
   ]
  },
  {
   "cell_type": "code",
   "execution_count": 10,
   "id": "31a87f81-569e-4443-829d-5f307e76a949",
   "metadata": {
    "tags": []
   },
   "outputs": [],
   "source": [
    "# The \"name\" column has 16 missing values, a number completely negligible in regards to our total rows, so we'll just drop them\n",
    "df.dropna(inplace=True)"
   ]
  },
  {
   "cell_type": "code",
   "execution_count": 11,
   "id": "d3432c67-3e2d-4ae5-af7b-4f6083b66b6a",
   "metadata": {
    "tags": []
   },
   "outputs": [
    {
     "data": {
      "text/plain": [
       "id                     0\n",
       "name                   0\n",
       "host_id                0\n",
       "neighbourhood_group    0\n",
       "price                  0\n",
       "minimum_nights         0\n",
       "number_of_reviews      0\n",
       "availability_365       0\n",
       "dtype: int64"
      ]
     },
     "execution_count": 11,
     "metadata": {},
     "output_type": "execute_result"
    }
   ],
   "source": [
    "df.isnull().sum()"
   ]
  },
  {
   "cell_type": "code",
   "execution_count": 12,
   "id": "2ebd61b0-a997-469b-893b-fee6e18cf445",
   "metadata": {
    "tags": []
   },
   "outputs": [
    {
     "name": "stdout",
     "output_type": "stream",
     "text": [
      "<class 'pandas.core.frame.DataFrame'>\n",
      "Index: 48879 entries, 0 to 48894\n",
      "Data columns (total 8 columns):\n",
      " #   Column               Non-Null Count  Dtype \n",
      "---  ------               --------------  ----- \n",
      " 0   id                   48879 non-null  int64 \n",
      " 1   name                 48879 non-null  object\n",
      " 2   host_id              48879 non-null  int64 \n",
      " 3   neighbourhood_group  48879 non-null  object\n",
      " 4   price                48879 non-null  int64 \n",
      " 5   minimum_nights       48879 non-null  int64 \n",
      " 6   number_of_reviews    48879 non-null  int64 \n",
      " 7   availability_365     48879 non-null  int64 \n",
      "dtypes: int64(6), object(2)\n",
      "memory usage: 3.4+ MB\n"
     ]
    }
   ],
   "source": [
    "df.info()"
   ]
  },
  {
   "cell_type": "code",
   "execution_count": 13,
   "id": "cb07f959-72ba-4f09-b2ea-e680f71c2ef5",
   "metadata": {
    "tags": []
   },
   "outputs": [
    {
     "data": {
      "text/plain": [
       "False    48879\n",
       "Name: count, dtype: int64"
      ]
     },
     "execution_count": 13,
     "metadata": {},
     "output_type": "execute_result"
    }
   ],
   "source": [
    "# Checking for duplicates\n",
    "df.duplicated().value_counts()"
   ]
  },
  {
   "cell_type": "markdown",
   "id": "78bf9212-ce4a-44f7-8fdd-9784bd349e33",
   "metadata": {
    "tags": []
   },
   "source": [
    "##\n"
   ]
  },
  {
   "cell_type": "markdown",
   "id": "43c5bede-41a1-4bc3-a2e0-52d85f4247ad",
   "metadata": {},
   "source": [
    "### Task 3\n",
    "### Use query method to find the entries we are interested in"
   ]
  },
  {
   "cell_type": "code",
   "execution_count": 14,
   "id": "bfaaac9f-f58c-4744-a9ae-4668dd0d3f85",
   "metadata": {
    "tags": []
   },
   "outputs": [
    {
     "data": {
      "text/html": [
       "<div>\n",
       "<style scoped>\n",
       "    .dataframe tbody tr th:only-of-type {\n",
       "        vertical-align: middle;\n",
       "    }\n",
       "\n",
       "    .dataframe tbody tr th {\n",
       "        vertical-align: top;\n",
       "    }\n",
       "\n",
       "    .dataframe thead th {\n",
       "        text-align: right;\n",
       "    }\n",
       "</style>\n",
       "<table border=\"1\" class=\"dataframe\">\n",
       "  <thead>\n",
       "    <tr style=\"text-align: right;\">\n",
       "      <th></th>\n",
       "      <th>id</th>\n",
       "      <th>name</th>\n",
       "      <th>host_id</th>\n",
       "      <th>neighbourhood_group</th>\n",
       "      <th>price</th>\n",
       "      <th>minimum_nights</th>\n",
       "      <th>number_of_reviews</th>\n",
       "      <th>availability_365</th>\n",
       "    </tr>\n",
       "  </thead>\n",
       "  <tbody>\n",
       "    <tr>\n",
       "      <th>0</th>\n",
       "      <td>2539</td>\n",
       "      <td>Clean &amp; quiet apt home by the park</td>\n",
       "      <td>2787</td>\n",
       "      <td>Brooklyn</td>\n",
       "      <td>149</td>\n",
       "      <td>1</td>\n",
       "      <td>9</td>\n",
       "      <td>365</td>\n",
       "    </tr>\n",
       "  </tbody>\n",
       "</table>\n",
       "</div>"
      ],
      "text/plain": [
       "     id                                name  host_id neighbourhood_group  \\\n",
       "0  2539  Clean & quiet apt home by the park     2787            Brooklyn   \n",
       "\n",
       "   price  minimum_nights  number_of_reviews  availability_365  \n",
       "0    149               1                  9               365  "
      ]
     },
     "execution_count": 14,
     "metadata": {},
     "output_type": "execute_result"
    }
   ],
   "source": [
    "df.head(1)"
   ]
  },
  {
   "cell_type": "code",
   "execution_count": 15,
   "id": "d386cb08-0714-4c8d-9c85-27aab05955aa",
   "metadata": {
    "tags": []
   },
   "outputs": [],
   "source": [
    "df_q = df.query(\"price<=100 & minimum_nights<=2 & number_of_reviews>=180 & availability_365>=180\")"
   ]
  },
  {
   "cell_type": "code",
   "execution_count": 16,
   "id": "e4579a19-5fd5-41a2-a3af-2a712c06ce7b",
   "metadata": {
    "tags": []
   },
   "outputs": [
    {
     "data": {
      "text/html": [
       "<div>\n",
       "<style scoped>\n",
       "    .dataframe tbody tr th:only-of-type {\n",
       "        vertical-align: middle;\n",
       "    }\n",
       "\n",
       "    .dataframe tbody tr th {\n",
       "        vertical-align: top;\n",
       "    }\n",
       "\n",
       "    .dataframe thead th {\n",
       "        text-align: right;\n",
       "    }\n",
       "</style>\n",
       "<table border=\"1\" class=\"dataframe\">\n",
       "  <thead>\n",
       "    <tr style=\"text-align: right;\">\n",
       "      <th></th>\n",
       "      <th>id</th>\n",
       "      <th>name</th>\n",
       "      <th>host_id</th>\n",
       "      <th>neighbourhood_group</th>\n",
       "      <th>price</th>\n",
       "      <th>minimum_nights</th>\n",
       "      <th>number_of_reviews</th>\n",
       "      <th>availability_365</th>\n",
       "    </tr>\n",
       "  </thead>\n",
       "  <tbody>\n",
       "    <tr>\n",
       "      <th>3</th>\n",
       "      <td>3831</td>\n",
       "      <td>Cozy Entire Floor of Brownstone</td>\n",
       "      <td>4869</td>\n",
       "      <td>Brooklyn</td>\n",
       "      <td>89</td>\n",
       "      <td>1</td>\n",
       "      <td>270</td>\n",
       "      <td>194</td>\n",
       "    </tr>\n",
       "    <tr>\n",
       "      <th>7</th>\n",
       "      <td>5178</td>\n",
       "      <td>Large Furnished Room Near B'way</td>\n",
       "      <td>8967</td>\n",
       "      <td>Manhattan</td>\n",
       "      <td>79</td>\n",
       "      <td>2</td>\n",
       "      <td>430</td>\n",
       "      <td>220</td>\n",
       "    </tr>\n",
       "    <tr>\n",
       "      <th>39</th>\n",
       "      <td>12048</td>\n",
       "      <td>LowerEastSide apt share shortterm 1</td>\n",
       "      <td>7549</td>\n",
       "      <td>Manhattan</td>\n",
       "      <td>40</td>\n",
       "      <td>1</td>\n",
       "      <td>214</td>\n",
       "      <td>188</td>\n",
       "    </tr>\n",
       "    <tr>\n",
       "      <th>57</th>\n",
       "      <td>15220</td>\n",
       "      <td>Best Location in NYC! TIMES SQUARE!</td>\n",
       "      <td>59734</td>\n",
       "      <td>Manhattan</td>\n",
       "      <td>69</td>\n",
       "      <td>2</td>\n",
       "      <td>289</td>\n",
       "      <td>294</td>\n",
       "    </tr>\n",
       "    <tr>\n",
       "      <th>110</th>\n",
       "      <td>26362</td>\n",
       "      <td>Times Square, Safe, Clean and Cozy!</td>\n",
       "      <td>59734</td>\n",
       "      <td>Manhattan</td>\n",
       "      <td>59</td>\n",
       "      <td>2</td>\n",
       "      <td>334</td>\n",
       "      <td>279</td>\n",
       "    </tr>\n",
       "    <tr>\n",
       "      <th>...</th>\n",
       "      <td>...</td>\n",
       "      <td>...</td>\n",
       "      <td>...</td>\n",
       "      <td>...</td>\n",
       "      <td>...</td>\n",
       "      <td>...</td>\n",
       "      <td>...</td>\n",
       "      <td>...</td>\n",
       "    </tr>\n",
       "    <tr>\n",
       "      <th>27346</th>\n",
       "      <td>21581545</td>\n",
       "      <td>STEPS TO LGA, Near CITIFIELD, JFK MANHATTAN(RM 3)</td>\n",
       "      <td>156948703</td>\n",
       "      <td>Queens</td>\n",
       "      <td>65</td>\n",
       "      <td>1</td>\n",
       "      <td>191</td>\n",
       "      <td>336</td>\n",
       "    </tr>\n",
       "    <tr>\n",
       "      <th>27369</th>\n",
       "      <td>21593310</td>\n",
       "      <td>STEPS TO LGA, near CITIFIELD, JFK MANHATTAN(RM...</td>\n",
       "      <td>156948703</td>\n",
       "      <td>Queens</td>\n",
       "      <td>60</td>\n",
       "      <td>1</td>\n",
       "      <td>257</td>\n",
       "      <td>351</td>\n",
       "    </tr>\n",
       "    <tr>\n",
       "      <th>27479</th>\n",
       "      <td>21646774</td>\n",
       "      <td>STEPS TO LGA, Near CITIFIELD, JFK MANHATTAN(RM...</td>\n",
       "      <td>156948703</td>\n",
       "      <td>Queens</td>\n",
       "      <td>55</td>\n",
       "      <td>1</td>\n",
       "      <td>208</td>\n",
       "      <td>352</td>\n",
       "    </tr>\n",
       "    <tr>\n",
       "      <th>27649</th>\n",
       "      <td>21730735</td>\n",
       "      <td>Steps to LGA, near CitiField, JFK,Manhattan (R...</td>\n",
       "      <td>156948703</td>\n",
       "      <td>Queens</td>\n",
       "      <td>52</td>\n",
       "      <td>1</td>\n",
       "      <td>207</td>\n",
       "      <td>325</td>\n",
       "    </tr>\n",
       "    <tr>\n",
       "      <th>27847</th>\n",
       "      <td>21822619</td>\n",
       "      <td>THE HUGH SUITES 3mins to JFK</td>\n",
       "      <td>1280731</td>\n",
       "      <td>Queens</td>\n",
       "      <td>80</td>\n",
       "      <td>1</td>\n",
       "      <td>214</td>\n",
       "      <td>307</td>\n",
       "    </tr>\n",
       "  </tbody>\n",
       "</table>\n",
       "<p>195 rows × 8 columns</p>\n",
       "</div>"
      ],
      "text/plain": [
       "             id                                               name    host_id  \\\n",
       "3          3831                    Cozy Entire Floor of Brownstone       4869   \n",
       "7          5178                   Large Furnished Room Near B'way        8967   \n",
       "39        12048                LowerEastSide apt share shortterm 1       7549   \n",
       "57        15220                Best Location in NYC! TIMES SQUARE!      59734   \n",
       "110       26362                Times Square, Safe, Clean and Cozy!      59734   \n",
       "...         ...                                                ...        ...   \n",
       "27346  21581545  STEPS TO LGA, Near CITIFIELD, JFK MANHATTAN(RM 3)  156948703   \n",
       "27369  21593310  STEPS TO LGA, near CITIFIELD, JFK MANHATTAN(RM...  156948703   \n",
       "27479  21646774  STEPS TO LGA, Near CITIFIELD, JFK MANHATTAN(RM...  156948703   \n",
       "27649  21730735  Steps to LGA, near CitiField, JFK,Manhattan (R...  156948703   \n",
       "27847  21822619                       THE HUGH SUITES 3mins to JFK    1280731   \n",
       "\n",
       "      neighbourhood_group  price  minimum_nights  number_of_reviews  \\\n",
       "3                Brooklyn     89               1                270   \n",
       "7               Manhattan     79               2                430   \n",
       "39              Manhattan     40               1                214   \n",
       "57              Manhattan     69               2                289   \n",
       "110             Manhattan     59               2                334   \n",
       "...                   ...    ...             ...                ...   \n",
       "27346              Queens     65               1                191   \n",
       "27369              Queens     60               1                257   \n",
       "27479              Queens     55               1                208   \n",
       "27649              Queens     52               1                207   \n",
       "27847              Queens     80               1                214   \n",
       "\n",
       "       availability_365  \n",
       "3                   194  \n",
       "7                   220  \n",
       "39                  188  \n",
       "57                  294  \n",
       "110                 279  \n",
       "...                 ...  \n",
       "27346               336  \n",
       "27369               351  \n",
       "27479               352  \n",
       "27649               325  \n",
       "27847               307  \n",
       "\n",
       "[195 rows x 8 columns]"
      ]
     },
     "execution_count": 16,
     "metadata": {},
     "output_type": "execute_result"
    }
   ],
   "source": [
    "df_q"
   ]
  },
  {
   "cell_type": "code",
   "execution_count": 17,
   "id": "a0b68bee-a208-449c-93dc-a71d6ffc7710",
   "metadata": {
    "tags": []
   },
   "outputs": [
    {
     "name": "stdout",
     "output_type": "stream",
     "text": [
      "<class 'pandas.core.frame.DataFrame'>\n",
      "Index: 195 entries, 3 to 27847\n",
      "Data columns (total 8 columns):\n",
      " #   Column               Non-Null Count  Dtype \n",
      "---  ------               --------------  ----- \n",
      " 0   id                   195 non-null    int64 \n",
      " 1   name                 195 non-null    object\n",
      " 2   host_id              195 non-null    int64 \n",
      " 3   neighbourhood_group  195 non-null    object\n",
      " 4   price                195 non-null    int64 \n",
      " 5   minimum_nights       195 non-null    int64 \n",
      " 6   number_of_reviews    195 non-null    int64 \n",
      " 7   availability_365     195 non-null    int64 \n",
      "dtypes: int64(6), object(2)\n",
      "memory usage: 13.7+ KB\n"
     ]
    }
   ],
   "source": [
    "df_q.info()"
   ]
  },
  {
   "cell_type": "markdown",
   "id": "f857fd81-f15d-4d53-b17d-45969b1457f6",
   "metadata": {},
   "source": [
    "##"
   ]
  },
  {
   "cell_type": "markdown",
   "id": "d72c1e7f-cf44-4efa-ad44-c2ef57b99a88",
   "metadata": {},
   "source": [
    "### Task 4\n",
    "### Sorting the results to prepare potential hosts to promote"
   ]
  },
  {
   "cell_type": "code",
   "execution_count": 18,
   "id": "2ec66244-7e93-40b6-a904-927b84e1e78b",
   "metadata": {
    "tags": []
   },
   "outputs": [
    {
     "data": {
      "text/html": [
       "<div>\n",
       "<style scoped>\n",
       "    .dataframe tbody tr th:only-of-type {\n",
       "        vertical-align: middle;\n",
       "    }\n",
       "\n",
       "    .dataframe tbody tr th {\n",
       "        vertical-align: top;\n",
       "    }\n",
       "\n",
       "    .dataframe thead th {\n",
       "        text-align: right;\n",
       "    }\n",
       "</style>\n",
       "<table border=\"1\" class=\"dataframe\">\n",
       "  <thead>\n",
       "    <tr style=\"text-align: right;\">\n",
       "      <th></th>\n",
       "      <th>id</th>\n",
       "      <th>name</th>\n",
       "      <th>host_id</th>\n",
       "      <th>neighbourhood_group</th>\n",
       "      <th>price</th>\n",
       "      <th>minimum_nights</th>\n",
       "      <th>number_of_reviews</th>\n",
       "      <th>availability_365</th>\n",
       "    </tr>\n",
       "  </thead>\n",
       "  <tbody>\n",
       "    <tr>\n",
       "      <th>1965</th>\n",
       "      <td>858695</td>\n",
       "      <td>Very Large Private Room on quiet st</td>\n",
       "      <td>4494343</td>\n",
       "      <td>Bronx</td>\n",
       "      <td>30</td>\n",
       "      <td>2</td>\n",
       "      <td>291</td>\n",
       "      <td>208</td>\n",
       "    </tr>\n",
       "    <tr>\n",
       "      <th>1706</th>\n",
       "      <td>773041</td>\n",
       "      <td>Nice beautiful room In the Bronx</td>\n",
       "      <td>3684360</td>\n",
       "      <td>Bronx</td>\n",
       "      <td>38</td>\n",
       "      <td>1</td>\n",
       "      <td>187</td>\n",
       "      <td>241</td>\n",
       "    </tr>\n",
       "    <tr>\n",
       "      <th>171</th>\n",
       "      <td>44096</td>\n",
       "      <td>Room with a View</td>\n",
       "      <td>190409</td>\n",
       "      <td>Bronx</td>\n",
       "      <td>40</td>\n",
       "      <td>1</td>\n",
       "      <td>219</td>\n",
       "      <td>353</td>\n",
       "    </tr>\n",
       "    <tr>\n",
       "      <th>1666</th>\n",
       "      <td>755528</td>\n",
       "      <td>PRIVATE BATH/TONS OF SUNLIGHT/SAFE</td>\n",
       "      <td>3684360</td>\n",
       "      <td>Bronx</td>\n",
       "      <td>49</td>\n",
       "      <td>2</td>\n",
       "      <td>189</td>\n",
       "      <td>238</td>\n",
       "    </tr>\n",
       "    <tr>\n",
       "      <th>433</th>\n",
       "      <td>149777</td>\n",
       "      <td>Artsy 1 bedroom Apt. 20 min to 42nd Grand Cent...</td>\n",
       "      <td>716306</td>\n",
       "      <td>Bronx</td>\n",
       "      <td>77</td>\n",
       "      <td>1</td>\n",
       "      <td>197</td>\n",
       "      <td>309</td>\n",
       "    </tr>\n",
       "    <tr>\n",
       "      <th>16691</th>\n",
       "      <td>13348000</td>\n",
       "      <td>Home*Sweet*Home\\nQuiet neighborhood</td>\n",
       "      <td>69546772</td>\n",
       "      <td>Bronx</td>\n",
       "      <td>89</td>\n",
       "      <td>1</td>\n",
       "      <td>192</td>\n",
       "      <td>303</td>\n",
       "    </tr>\n",
       "    <tr>\n",
       "      <th>14310</th>\n",
       "      <td>11138823</td>\n",
       "      <td>A beautiful Cozy 1 BR Apartment.</td>\n",
       "      <td>57885474</td>\n",
       "      <td>Bronx</td>\n",
       "      <td>90</td>\n",
       "      <td>2</td>\n",
       "      <td>199</td>\n",
       "      <td>319</td>\n",
       "    </tr>\n",
       "    <tr>\n",
       "      <th>23371</th>\n",
       "      <td>18914730</td>\n",
       "      <td>IDEALLY LOCATED COZY COTTAGE</td>\n",
       "      <td>1776707</td>\n",
       "      <td>Bronx</td>\n",
       "      <td>95</td>\n",
       "      <td>1</td>\n",
       "      <td>266</td>\n",
       "      <td>345</td>\n",
       "    </tr>\n",
       "    <tr>\n",
       "      <th>3769</th>\n",
       "      <td>2267177</td>\n",
       "      <td>Large Bedroom 15 Min From Manhattan</td>\n",
       "      <td>11576459</td>\n",
       "      <td>Brooklyn</td>\n",
       "      <td>45</td>\n",
       "      <td>2</td>\n",
       "      <td>211</td>\n",
       "      <td>270</td>\n",
       "    </tr>\n",
       "    <tr>\n",
       "      <th>13829</th>\n",
       "      <td>10444139</td>\n",
       "      <td>Budget Room at Brooklyn&amp;Breakfast</td>\n",
       "      <td>344035</td>\n",
       "      <td>Brooklyn</td>\n",
       "      <td>45</td>\n",
       "      <td>1</td>\n",
       "      <td>204</td>\n",
       "      <td>324</td>\n",
       "    </tr>\n",
       "    <tr>\n",
       "      <th>1176</th>\n",
       "      <td>502309</td>\n",
       "      <td>Sunny Rm #1, Air Conditioner, Park,Express Q t...</td>\n",
       "      <td>2478675</td>\n",
       "      <td>Brooklyn</td>\n",
       "      <td>46</td>\n",
       "      <td>1</td>\n",
       "      <td>184</td>\n",
       "      <td>362</td>\n",
       "    </tr>\n",
       "    <tr>\n",
       "      <th>11232</th>\n",
       "      <td>8704528</td>\n",
       "      <td>Private bedroom &amp; bath in Red Hook Bklyn for solo</td>\n",
       "      <td>45694156</td>\n",
       "      <td>Brooklyn</td>\n",
       "      <td>50</td>\n",
       "      <td>1</td>\n",
       "      <td>190</td>\n",
       "      <td>188</td>\n",
       "    </tr>\n",
       "    <tr>\n",
       "      <th>14319</th>\n",
       "      <td>11146432</td>\n",
       "      <td>Cozy top floor room at Brooklyn&amp;Breakfast</td>\n",
       "      <td>344035</td>\n",
       "      <td>Brooklyn</td>\n",
       "      <td>50</td>\n",
       "      <td>1</td>\n",
       "      <td>257</td>\n",
       "      <td>286</td>\n",
       "    </tr>\n",
       "    <tr>\n",
       "      <th>14552</th>\n",
       "      <td>11470210</td>\n",
       "      <td>Delightful, Cozy and Convenient Room in Brookl...</td>\n",
       "      <td>60346942</td>\n",
       "      <td>Brooklyn</td>\n",
       "      <td>50</td>\n",
       "      <td>1</td>\n",
       "      <td>210</td>\n",
       "      <td>189</td>\n",
       "    </tr>\n",
       "    <tr>\n",
       "      <th>14657</th>\n",
       "      <td>11575073</td>\n",
       "      <td>Warm and Cozy Room in Hip Iconic Brooklyn!!!</td>\n",
       "      <td>60346942</td>\n",
       "      <td>Brooklyn</td>\n",
       "      <td>50</td>\n",
       "      <td>1</td>\n",
       "      <td>192</td>\n",
       "      <td>189</td>\n",
       "    </tr>\n",
       "    <tr>\n",
       "      <th>3409</th>\n",
       "      <td>2045727</td>\n",
       "      <td>Cozy Room in Family Home..BKLYN!!!</td>\n",
       "      <td>320284</td>\n",
       "      <td>Brooklyn</td>\n",
       "      <td>52</td>\n",
       "      <td>2</td>\n",
       "      <td>203</td>\n",
       "      <td>323</td>\n",
       "    </tr>\n",
       "    <tr>\n",
       "      <th>378</th>\n",
       "      <td>113265</td>\n",
       "      <td>Brooklyn- Crown Heights Garden Apt.</td>\n",
       "      <td>314582</td>\n",
       "      <td>Brooklyn</td>\n",
       "      <td>55</td>\n",
       "      <td>2</td>\n",
       "      <td>247</td>\n",
       "      <td>275</td>\n",
       "    </tr>\n",
       "    <tr>\n",
       "      <th>3192</th>\n",
       "      <td>1906804</td>\n",
       "      <td>Private Master Bedroom w/Garden 14 min to Unio...</td>\n",
       "      <td>9820942</td>\n",
       "      <td>Brooklyn</td>\n",
       "      <td>55</td>\n",
       "      <td>1</td>\n",
       "      <td>227</td>\n",
       "      <td>341</td>\n",
       "    </tr>\n",
       "    <tr>\n",
       "      <th>3418</th>\n",
       "      <td>2051675</td>\n",
       "      <td>Nice modern room by Prospect Park!</td>\n",
       "      <td>4684532</td>\n",
       "      <td>Brooklyn</td>\n",
       "      <td>57</td>\n",
       "      <td>2</td>\n",
       "      <td>199</td>\n",
       "      <td>265</td>\n",
       "    </tr>\n",
       "    <tr>\n",
       "      <th>3169</th>\n",
       "      <td>1888006</td>\n",
       "      <td>14 Min 2Union Sq, Manhattan with Private Entrance</td>\n",
       "      <td>9820942</td>\n",
       "      <td>Brooklyn</td>\n",
       "      <td>58</td>\n",
       "      <td>1</td>\n",
       "      <td>236</td>\n",
       "      <td>350</td>\n",
       "    </tr>\n",
       "  </tbody>\n",
       "</table>\n",
       "</div>"
      ],
      "text/plain": [
       "             id                                               name   host_id  \\\n",
       "1965     858695                Very Large Private Room on quiet st   4494343   \n",
       "1706     773041                   Nice beautiful room In the Bronx   3684360   \n",
       "171       44096                                   Room with a View    190409   \n",
       "1666     755528                 PRIVATE BATH/TONS OF SUNLIGHT/SAFE   3684360   \n",
       "433      149777  Artsy 1 bedroom Apt. 20 min to 42nd Grand Cent...    716306   \n",
       "16691  13348000                Home*Sweet*Home\\nQuiet neighborhood  69546772   \n",
       "14310  11138823                   A beautiful Cozy 1 BR Apartment.  57885474   \n",
       "23371  18914730                       IDEALLY LOCATED COZY COTTAGE   1776707   \n",
       "3769    2267177                Large Bedroom 15 Min From Manhattan  11576459   \n",
       "13829  10444139                  Budget Room at Brooklyn&Breakfast    344035   \n",
       "1176     502309  Sunny Rm #1, Air Conditioner, Park,Express Q t...   2478675   \n",
       "11232   8704528  Private bedroom & bath in Red Hook Bklyn for solo  45694156   \n",
       "14319  11146432          Cozy top floor room at Brooklyn&Breakfast    344035   \n",
       "14552  11470210  Delightful, Cozy and Convenient Room in Brookl...  60346942   \n",
       "14657  11575073       Warm and Cozy Room in Hip Iconic Brooklyn!!!  60346942   \n",
       "3409    2045727                 Cozy Room in Family Home..BKLYN!!!    320284   \n",
       "378      113265                Brooklyn- Crown Heights Garden Apt.    314582   \n",
       "3192    1906804  Private Master Bedroom w/Garden 14 min to Unio...   9820942   \n",
       "3418    2051675                 Nice modern room by Prospect Park!   4684532   \n",
       "3169    1888006  14 Min 2Union Sq, Manhattan with Private Entrance   9820942   \n",
       "\n",
       "      neighbourhood_group  price  minimum_nights  number_of_reviews  \\\n",
       "1965                Bronx     30               2                291   \n",
       "1706                Bronx     38               1                187   \n",
       "171                 Bronx     40               1                219   \n",
       "1666                Bronx     49               2                189   \n",
       "433                 Bronx     77               1                197   \n",
       "16691               Bronx     89               1                192   \n",
       "14310               Bronx     90               2                199   \n",
       "23371               Bronx     95               1                266   \n",
       "3769             Brooklyn     45               2                211   \n",
       "13829            Brooklyn     45               1                204   \n",
       "1176             Brooklyn     46               1                184   \n",
       "11232            Brooklyn     50               1                190   \n",
       "14319            Brooklyn     50               1                257   \n",
       "14552            Brooklyn     50               1                210   \n",
       "14657            Brooklyn     50               1                192   \n",
       "3409             Brooklyn     52               2                203   \n",
       "378              Brooklyn     55               2                247   \n",
       "3192             Brooklyn     55               1                227   \n",
       "3418             Brooklyn     57               2                199   \n",
       "3169             Brooklyn     58               1                236   \n",
       "\n",
       "       availability_365  \n",
       "1965                208  \n",
       "1706                241  \n",
       "171                 353  \n",
       "1666                238  \n",
       "433                 309  \n",
       "16691               303  \n",
       "14310               319  \n",
       "23371               345  \n",
       "3769                270  \n",
       "13829               324  \n",
       "1176                362  \n",
       "11232               188  \n",
       "14319               286  \n",
       "14552               189  \n",
       "14657               189  \n",
       "3409                323  \n",
       "378                 275  \n",
       "3192                341  \n",
       "3418                265  \n",
       "3169                350  "
      ]
     },
     "execution_count": 18,
     "metadata": {},
     "output_type": "execute_result"
    }
   ],
   "source": [
    "# Sorting the dataframe by \"neighbourhood_group\" and then by \"price\"\n",
    "df_sorted = df_q.sort_values([\"neighbourhood_group\", \"price\"])\n",
    "df_sorted.head(20)"
   ]
  },
  {
   "cell_type": "code",
   "execution_count": 19,
   "id": "f031f08f-1d4c-4af8-a843-6f35cd3b8fa6",
   "metadata": {
    "tags": []
   },
   "outputs": [
    {
     "name": "stdout",
     "output_type": "stream",
     "text": [
      "             id                                               name    host_id neighbourhood_group  price  minimum_nights  number_of_reviews  availability_365\n",
      "26977  21366188    Studio apartment near JFK airport /Free parking  154705359              Queens     96               1                259               307\n",
      "14194  10945632                All to yourself home away from home   56758927              Queens     97               2                252               290\n",
      "16754  13388649           Spacious Private Home - 20m to Manhattan    1544804              Queens     99               1                185               211\n",
      "13710  10283574                           Apt next to Astoria park   35518413              Queens    100               1                206               304\n",
      "18745  14839830  Modern Spacious Private One bedroom Free Parking.   48630747              Queens    100               1                197               342\n",
      "249       62452                     A SpeciaL!! Private Room in NY     303939       Staten Island     36               2                193               360\n",
      "256       63320                 D Private Che@p Room 2 Explore NYC     303939       Staten Island     36               2                333               340\n",
      "5387    3892700                    Cozy 1BR-Country living in NYC!      46969       Staten Island     70               2                242               256\n",
      "6941    4974843                            Charming private Studio   25641892       Staten Island     70               2                196               231\n",
      "4324    2889387                New York City near Staten Is. Ferry    2269517       Staten Island     95               2                234               264\n"
     ]
    }
   ],
   "source": [
    "# Checking out the last 10 dataframe entries\n",
    "print(df_sorted.tail(10).to_string())"
   ]
  },
  {
   "cell_type": "code",
   "execution_count": 20,
   "id": "8edb0784-da6e-4b13-b111-dc227ccc9367",
   "metadata": {
    "tags": []
   },
   "outputs": [
    {
     "data": {
      "text/plain": [
       "neighbourhood_group\n",
       "Brooklyn         69\n",
       "Manhattan        60\n",
       "Queens           53\n",
       "Bronx             8\n",
       "Staten Island     5\n",
       "Name: count, dtype: int64"
      ]
     },
     "execution_count": 20,
     "metadata": {},
     "output_type": "execute_result"
    }
   ],
   "source": [
    "# So the hosts we can promote, who match our criteria, are ready\n",
    "# It would also be useful to have an idea of how many recommended host exist, in every neighbourhood\n",
    "df_sorted[\"neighbourhood_group\"].value_counts()"
   ]
  },
  {
   "cell_type": "code",
   "execution_count": 21,
   "id": "71bd2cac-92cd-4f21-8aa5-a4767ce7b661",
   "metadata": {
    "tags": []
   },
   "outputs": [],
   "source": [
    "# We can save the final dataframe containing the promotions, as a csv\n",
    "df_sorted.to_csv(\"Promoted Airbnb Units\")"
   ]
  },
  {
   "cell_type": "markdown",
   "id": "491dd27d-189b-4625-a04d-e63c94a5dfa1",
   "metadata": {},
   "source": [
    "##"
   ]
  },
  {
   "cell_type": "markdown",
   "id": "9be6f131-f58f-487f-8ec5-40786ee62c65",
   "metadata": {},
   "source": [
    "## Senario B:\n",
    "## Airbnb wants to promote luxury units in the two most popular boroughs in NYC.\n",
    "## We need to determine how many units in these two boroughs cost more than $1000 per night, and have a minimum stay of 1 or 2 nights.\n"
   ]
  },
  {
   "cell_type": "markdown",
   "id": "3f133913-f5bb-44e2-8936-be54c40cab31",
   "metadata": {},
   "source": [
    "##"
   ]
  },
  {
   "cell_type": "markdown",
   "id": "b6f9972d-468e-4a39-8c5e-f3fa21888401",
   "metadata": {},
   "source": [
    "### We will import the raw data once again, and perform the functions needed to clean the data, and meet the requirements."
   ]
  },
  {
   "cell_type": "code",
   "execution_count": 22,
   "id": "3c6ab13d-f564-4a40-8fd7-ead2e13e8ea6",
   "metadata": {
    "tags": []
   },
   "outputs": [],
   "source": [
    "df = pd.read_csv(r\"C:\\Users\\ska_p\\OneDrive\\Desktop\\Coursera Courses and Degrees\\Guided Project - Data Analysis with Python - Inform a Business Decision\\data/AB_NYC_2019.csv\")"
   ]
  },
  {
   "cell_type": "code",
   "execution_count": 23,
   "id": "16b787c2-63fd-40d1-847d-e5e7aaaa1843",
   "metadata": {
    "tags": []
   },
   "outputs": [
    {
     "name": "stdout",
     "output_type": "stream",
     "text": [
      "<class 'pandas.core.frame.DataFrame'>\n",
      "RangeIndex: 48895 entries, 0 to 48894\n",
      "Data columns (total 16 columns):\n",
      " #   Column                          Non-Null Count  Dtype  \n",
      "---  ------                          --------------  -----  \n",
      " 0   id                              48895 non-null  int64  \n",
      " 1   name                            48879 non-null  object \n",
      " 2   host_id                         48895 non-null  int64  \n",
      " 3   host_name                       48874 non-null  object \n",
      " 4   neighbourhood_group             48895 non-null  object \n",
      " 5   neighbourhood                   48895 non-null  object \n",
      " 6   latitude                        48895 non-null  float64\n",
      " 7   longitude                       48895 non-null  float64\n",
      " 8   room_type                       48895 non-null  object \n",
      " 9   price                           48895 non-null  int64  \n",
      " 10  minimum_nights                  48895 non-null  int64  \n",
      " 11  number_of_reviews               48895 non-null  int64  \n",
      " 12  last_review                     38843 non-null  object \n",
      " 13  reviews_per_month               38843 non-null  float64\n",
      " 14  calculated_host_listings_count  48895 non-null  int64  \n",
      " 15  availability_365                48895 non-null  int64  \n",
      "dtypes: float64(3), int64(7), object(6)\n",
      "memory usage: 6.0+ MB\n"
     ]
    }
   ],
   "source": [
    "# Once again we need to preprocess the data, taking care of any missing or duplicate values\n",
    "# But first, lets drop reduntant columns\n",
    "df.info()"
   ]
  },
  {
   "cell_type": "code",
   "execution_count": 24,
   "id": "20be6238-30e5-45e7-9382-7fdec9f34ce2",
   "metadata": {
    "tags": []
   },
   "outputs": [],
   "source": [
    "# I will keep only the columns relevant to the objective\n",
    "df.drop([\"host_name\", \"neighbourhood\", \"latitude\", \"longitude\", \"room_type\", \"number_of_reviews\", \"last_review\", \"reviews_per_month\", \n",
    "         \"calculated_host_listings_count\", \"availability_365\"], axis = 1, inplace=True)"
   ]
  },
  {
   "cell_type": "code",
   "execution_count": 25,
   "id": "2f8a81cb-391a-4c25-9250-7d061cbb97f0",
   "metadata": {
    "tags": []
   },
   "outputs": [
    {
     "data": {
      "text/html": [
       "<div>\n",
       "<style scoped>\n",
       "    .dataframe tbody tr th:only-of-type {\n",
       "        vertical-align: middle;\n",
       "    }\n",
       "\n",
       "    .dataframe tbody tr th {\n",
       "        vertical-align: top;\n",
       "    }\n",
       "\n",
       "    .dataframe thead th {\n",
       "        text-align: right;\n",
       "    }\n",
       "</style>\n",
       "<table border=\"1\" class=\"dataframe\">\n",
       "  <thead>\n",
       "    <tr style=\"text-align: right;\">\n",
       "      <th></th>\n",
       "      <th>id</th>\n",
       "      <th>name</th>\n",
       "      <th>host_id</th>\n",
       "      <th>neighbourhood_group</th>\n",
       "      <th>price</th>\n",
       "      <th>minimum_nights</th>\n",
       "    </tr>\n",
       "  </thead>\n",
       "  <tbody>\n",
       "    <tr>\n",
       "      <th>0</th>\n",
       "      <td>2539</td>\n",
       "      <td>Clean &amp; quiet apt home by the park</td>\n",
       "      <td>2787</td>\n",
       "      <td>Brooklyn</td>\n",
       "      <td>149</td>\n",
       "      <td>1</td>\n",
       "    </tr>\n",
       "    <tr>\n",
       "      <th>1</th>\n",
       "      <td>2595</td>\n",
       "      <td>Skylit Midtown Castle</td>\n",
       "      <td>2845</td>\n",
       "      <td>Manhattan</td>\n",
       "      <td>225</td>\n",
       "      <td>1</td>\n",
       "    </tr>\n",
       "    <tr>\n",
       "      <th>2</th>\n",
       "      <td>3647</td>\n",
       "      <td>THE VILLAGE OF HARLEM....NEW YORK !</td>\n",
       "      <td>4632</td>\n",
       "      <td>Manhattan</td>\n",
       "      <td>150</td>\n",
       "      <td>3</td>\n",
       "    </tr>\n",
       "    <tr>\n",
       "      <th>3</th>\n",
       "      <td>3831</td>\n",
       "      <td>Cozy Entire Floor of Brownstone</td>\n",
       "      <td>4869</td>\n",
       "      <td>Brooklyn</td>\n",
       "      <td>89</td>\n",
       "      <td>1</td>\n",
       "    </tr>\n",
       "    <tr>\n",
       "      <th>4</th>\n",
       "      <td>5022</td>\n",
       "      <td>Entire Apt: Spacious Studio/Loft by central park</td>\n",
       "      <td>7192</td>\n",
       "      <td>Manhattan</td>\n",
       "      <td>80</td>\n",
       "      <td>10</td>\n",
       "    </tr>\n",
       "  </tbody>\n",
       "</table>\n",
       "</div>"
      ],
      "text/plain": [
       "     id                                              name  host_id  \\\n",
       "0  2539                Clean & quiet apt home by the park     2787   \n",
       "1  2595                             Skylit Midtown Castle     2845   \n",
       "2  3647               THE VILLAGE OF HARLEM....NEW YORK !     4632   \n",
       "3  3831                   Cozy Entire Floor of Brownstone     4869   \n",
       "4  5022  Entire Apt: Spacious Studio/Loft by central park     7192   \n",
       "\n",
       "  neighbourhood_group  price  minimum_nights  \n",
       "0            Brooklyn    149               1  \n",
       "1           Manhattan    225               1  \n",
       "2           Manhattan    150               3  \n",
       "3            Brooklyn     89               1  \n",
       "4           Manhattan     80              10  "
      ]
     },
     "execution_count": 25,
     "metadata": {},
     "output_type": "execute_result"
    }
   ],
   "source": [
    "df.head(5)"
   ]
  },
  {
   "cell_type": "code",
   "execution_count": 26,
   "id": "78def16c-925c-44db-8d1a-e184cee8293b",
   "metadata": {
    "tags": []
   },
   "outputs": [
    {
     "name": "stdout",
     "output_type": "stream",
     "text": [
      "False    48895\n",
      "Name: count, dtype: int64\n",
      "There seem to be 0 duplicates in the dataframe\n"
     ]
    }
   ],
   "source": [
    "# Checking for missing and duplicates\n",
    "print(df.duplicated().value_counts())\n",
    "print(\"There seem to be\", df.duplicated().sum(), \"duplicates in the dataframe\")"
   ]
  },
  {
   "cell_type": "code",
   "execution_count": 27,
   "id": "e94b949e-e28d-4cfc-97d1-a8b55e121704",
   "metadata": {
    "tags": []
   },
   "outputs": [
    {
     "data": {
      "text/plain": [
       "id                      0\n",
       "name                   16\n",
       "host_id                 0\n",
       "neighbourhood_group     0\n",
       "price                   0\n",
       "minimum_nights          0\n",
       "dtype: int64"
      ]
     },
     "execution_count": 27,
     "metadata": {},
     "output_type": "execute_result"
    }
   ],
   "source": [
    "df.isnull().sum()"
   ]
  },
  {
   "cell_type": "code",
   "execution_count": 28,
   "id": "7e46ad34-ca4c-49d4-9aa1-dbecb2715a53",
   "metadata": {
    "tags": []
   },
   "outputs": [],
   "source": [
    "# Dropping the very few remaining missing values\n",
    "df.dropna(inplace=True)"
   ]
  },
  {
   "cell_type": "code",
   "execution_count": 29,
   "id": "95214c26-f103-4730-8f4f-19792a798bd1",
   "metadata": {
    "tags": []
   },
   "outputs": [
    {
     "name": "stdout",
     "output_type": "stream",
     "text": [
      "<class 'pandas.core.frame.DataFrame'>\n",
      "Index: 48879 entries, 0 to 48894\n",
      "Data columns (total 6 columns):\n",
      " #   Column               Non-Null Count  Dtype \n",
      "---  ------               --------------  ----- \n",
      " 0   id                   48879 non-null  int64 \n",
      " 1   name                 48879 non-null  object\n",
      " 2   host_id              48879 non-null  int64 \n",
      " 3   neighbourhood_group  48879 non-null  object\n",
      " 4   price                48879 non-null  int64 \n",
      " 5   minimum_nights       48879 non-null  int64 \n",
      "dtypes: int64(4), object(2)\n",
      "memory usage: 2.6+ MB\n"
     ]
    }
   ],
   "source": [
    "df.info()"
   ]
  },
  {
   "cell_type": "code",
   "execution_count": 30,
   "id": "3aeb46c6-7e6f-483a-9402-019629764931",
   "metadata": {
    "tags": []
   },
   "outputs": [
    {
     "data": {
      "text/plain": [
       "neighbourhood_group\n",
       "Manhattan        21652\n",
       "Brooklyn         20098\n",
       "Queens            5666\n",
       "Bronx             1090\n",
       "Staten Island      373\n",
       "Name: count, dtype: int64"
      ]
     },
     "execution_count": 30,
     "metadata": {},
     "output_type": "execute_result"
    }
   ],
   "source": [
    "# To find the two most popular boroughs, we can investigate which two boroughs have the most Airbnb hosts\n",
    "df[\"neighbourhood_group\"].value_counts()"
   ]
  },
  {
   "cell_type": "code",
   "execution_count": 31,
   "id": "d07cfc8e-172f-4360-a4a6-d6b774fa2f73",
   "metadata": {
    "tags": []
   },
   "outputs": [],
   "source": [
    "# We notice that the two most popular boroughs are \"Manhattan\" and \"Brooklyn\"\n",
    "# We can transform the dataframe so that it contains data from olny these two boroughs\n",
    "df = df[(df[\"neighbourhood_group\"]==\"Manhattan\") | (df[\"neighbourhood_group\"]==\"Brooklyn\")]"
   ]
  },
  {
   "cell_type": "code",
   "execution_count": 32,
   "id": "152a5244-cbb7-483e-a69d-4fd2ee3f3b8c",
   "metadata": {
    "tags": []
   },
   "outputs": [
    {
     "data": {
      "text/plain": [
       "neighbourhood_group\n",
       "Manhattan    21652\n",
       "Brooklyn     20098\n",
       "Name: count, dtype: int64"
      ]
     },
     "execution_count": 32,
     "metadata": {},
     "output_type": "execute_result"
    }
   ],
   "source": [
    "df[\"neighbourhood_group\"].value_counts()"
   ]
  },
  {
   "cell_type": "code",
   "execution_count": 33,
   "id": "33fed10d-d171-4c8d-8218-d70fe34a98ee",
   "metadata": {
    "tags": []
   },
   "outputs": [],
   "source": [
    "# Now we can continue the sorting for the last two required conditions, using the query function\n",
    "df_sorted = df.query(\"price>1000 & minimum_nights<=2\")"
   ]
  },
  {
   "cell_type": "code",
   "execution_count": 34,
   "id": "2c8914bf-c6ff-4d25-9cd9-d5264f8a9eb0",
   "metadata": {
    "tags": []
   },
   "outputs": [
    {
     "data": {
      "text/html": [
       "<div>\n",
       "<style scoped>\n",
       "    .dataframe tbody tr th:only-of-type {\n",
       "        vertical-align: middle;\n",
       "    }\n",
       "\n",
       "    .dataframe tbody tr th {\n",
       "        vertical-align: top;\n",
       "    }\n",
       "\n",
       "    .dataframe thead th {\n",
       "        text-align: right;\n",
       "    }\n",
       "</style>\n",
       "<table border=\"1\" class=\"dataframe\">\n",
       "  <thead>\n",
       "    <tr style=\"text-align: right;\">\n",
       "      <th></th>\n",
       "      <th>id</th>\n",
       "      <th>name</th>\n",
       "      <th>host_id</th>\n",
       "      <th>neighbourhood_group</th>\n",
       "      <th>price</th>\n",
       "      <th>minimum_nights</th>\n",
       "    </tr>\n",
       "  </thead>\n",
       "  <tbody>\n",
       "    <tr>\n",
       "      <th>1105</th>\n",
       "      <td>468613</td>\n",
       "      <td>$ (Phone number hidden by Airbnb) weeks - room f</td>\n",
       "      <td>2325861</td>\n",
       "      <td>Manhattan</td>\n",
       "      <td>1300</td>\n",
       "      <td>1</td>\n",
       "    </tr>\n",
       "    <tr>\n",
       "      <th>2236</th>\n",
       "      <td>1056256</td>\n",
       "      <td>Beautiful eco triplex w/green roof. Free yoga/...</td>\n",
       "      <td>462379</td>\n",
       "      <td>Brooklyn</td>\n",
       "      <td>1395</td>\n",
       "      <td>1</td>\n",
       "    </tr>\n",
       "    <tr>\n",
       "      <th>2520</th>\n",
       "      <td>1300097</td>\n",
       "      <td>Marcel the Shell with Shoes On or Off, Whatever</td>\n",
       "      <td>4069241</td>\n",
       "      <td>Brooklyn</td>\n",
       "      <td>1500</td>\n",
       "      <td>1</td>\n",
       "    </tr>\n",
       "    <tr>\n",
       "      <th>2698</th>\n",
       "      <td>1448703</td>\n",
       "      <td>Beautiful 1 Bedroom in Nolita/Soho</td>\n",
       "      <td>213266</td>\n",
       "      <td>Manhattan</td>\n",
       "      <td>5000</td>\n",
       "      <td>1</td>\n",
       "    </tr>\n",
       "    <tr>\n",
       "      <th>2772</th>\n",
       "      <td>1515692</td>\n",
       "      <td>Beautiful Lower East Side Penthouse</td>\n",
       "      <td>4358024</td>\n",
       "      <td>Manhattan</td>\n",
       "      <td>1100</td>\n",
       "      <td>2</td>\n",
       "    </tr>\n",
       "    <tr>\n",
       "      <th>2896</th>\n",
       "      <td>1655880</td>\n",
       "      <td>4BD, 2 Bath Apt Flatiron on 6th Ave</td>\n",
       "      <td>8778889</td>\n",
       "      <td>Manhattan</td>\n",
       "      <td>1200</td>\n",
       "      <td>1</td>\n",
       "    </tr>\n",
       "    <tr>\n",
       "      <th>3131</th>\n",
       "      <td>1861281</td>\n",
       "      <td>Carol</td>\n",
       "      <td>9709464</td>\n",
       "      <td>Manhattan</td>\n",
       "      <td>1700</td>\n",
       "      <td>1</td>\n",
       "    </tr>\n",
       "    <tr>\n",
       "      <th>3306</th>\n",
       "      <td>1976123</td>\n",
       "      <td>Huge Loft with Private Entrance</td>\n",
       "      <td>6547579</td>\n",
       "      <td>Manhattan</td>\n",
       "      <td>1999</td>\n",
       "      <td>1</td>\n",
       "    </tr>\n",
       "    <tr>\n",
       "      <th>3333</th>\n",
       "      <td>1989838</td>\n",
       "      <td>Luxury 4 BD NYC Times Sq Apartment</td>\n",
       "      <td>3185905</td>\n",
       "      <td>Manhattan</td>\n",
       "      <td>1500</td>\n",
       "      <td>1</td>\n",
       "    </tr>\n",
       "    <tr>\n",
       "      <th>3598</th>\n",
       "      <td>2150727</td>\n",
       "      <td>1500 sq ft apt sleeps 8 - SuperBowl</td>\n",
       "      <td>5579700</td>\n",
       "      <td>Manhattan</td>\n",
       "      <td>2000</td>\n",
       "      <td>1</td>\n",
       "    </tr>\n",
       "    <tr>\n",
       "      <th>3622</th>\n",
       "      <td>2169765</td>\n",
       "      <td>Lower Park Avenue Pre War</td>\n",
       "      <td>8258307</td>\n",
       "      <td>Manhattan</td>\n",
       "      <td>2000</td>\n",
       "      <td>1</td>\n",
       "    </tr>\n",
       "    <tr>\n",
       "      <th>3637</th>\n",
       "      <td>2186452</td>\n",
       "      <td>Tribeca Loft for Superbowl Wknd</td>\n",
       "      <td>10636508</td>\n",
       "      <td>Manhattan</td>\n",
       "      <td>1500</td>\n",
       "      <td>1</td>\n",
       "    </tr>\n",
       "    <tr>\n",
       "      <th>3684</th>\n",
       "      <td>2217398</td>\n",
       "      <td>226 E 29th St, NY - Super Bowl</td>\n",
       "      <td>11312158</td>\n",
       "      <td>Manhattan</td>\n",
       "      <td>1500</td>\n",
       "      <td>1</td>\n",
       "    </tr>\n",
       "    <tr>\n",
       "      <th>3695</th>\n",
       "      <td>2224896</td>\n",
       "      <td>NYC SuperBowl Wk 5 Bdrs River View</td>\n",
       "      <td>11353904</td>\n",
       "      <td>Manhattan</td>\n",
       "      <td>4000</td>\n",
       "      <td>1</td>\n",
       "    </tr>\n",
       "    <tr>\n",
       "      <th>3702</th>\n",
       "      <td>2231814</td>\n",
       "      <td>Modern Luxury Meets Old Money Charm</td>\n",
       "      <td>112879</td>\n",
       "      <td>Brooklyn</td>\n",
       "      <td>1200</td>\n",
       "      <td>1</td>\n",
       "    </tr>\n",
       "    <tr>\n",
       "      <th>3720</th>\n",
       "      <td>2243699</td>\n",
       "      <td>SuperBowl Penthouse Loft 3,000 sqft</td>\n",
       "      <td>1483320</td>\n",
       "      <td>Manhattan</td>\n",
       "      <td>5250</td>\n",
       "      <td>1</td>\n",
       "    </tr>\n",
       "    <tr>\n",
       "      <th>3721</th>\n",
       "      <td>2243769</td>\n",
       "      <td>Super Bowl New York City Apartment</td>\n",
       "      <td>11460768</td>\n",
       "      <td>Manhattan</td>\n",
       "      <td>1500</td>\n",
       "      <td>1</td>\n",
       "    </tr>\n",
       "    <tr>\n",
       "      <th>3723</th>\n",
       "      <td>2243984</td>\n",
       "      <td>Superbowl in the West Village</td>\n",
       "      <td>11461854</td>\n",
       "      <td>Manhattan</td>\n",
       "      <td>1500</td>\n",
       "      <td>1</td>\n",
       "    </tr>\n",
       "    <tr>\n",
       "      <th>3731</th>\n",
       "      <td>2250170</td>\n",
       "      <td>Spacious/New 3 Bedroom East Village</td>\n",
       "      <td>11492501</td>\n",
       "      <td>Manhattan</td>\n",
       "      <td>1500</td>\n",
       "      <td>1</td>\n",
       "    </tr>\n",
       "    <tr>\n",
       "      <th>3732</th>\n",
       "      <td>2250372</td>\n",
       "      <td>Huge 3BR Penthouse, Private Roof!</td>\n",
       "      <td>11490872</td>\n",
       "      <td>Manhattan</td>\n",
       "      <td>1550</td>\n",
       "      <td>2</td>\n",
       "    </tr>\n",
       "  </tbody>\n",
       "</table>\n",
       "</div>"
      ],
      "text/plain": [
       "           id                                               name   host_id  \\\n",
       "1105   468613   $ (Phone number hidden by Airbnb) weeks - room f   2325861   \n",
       "2236  1056256  Beautiful eco triplex w/green roof. Free yoga/...    462379   \n",
       "2520  1300097    Marcel the Shell with Shoes On or Off, Whatever   4069241   \n",
       "2698  1448703                Beautiful 1 Bedroom in Nolita/Soho     213266   \n",
       "2772  1515692                Beautiful Lower East Side Penthouse   4358024   \n",
       "2896  1655880                4BD, 2 Bath Apt Flatiron on 6th Ave   8778889   \n",
       "3131  1861281                                              Carol   9709464   \n",
       "3306  1976123                    Huge Loft with Private Entrance   6547579   \n",
       "3333  1989838                 Luxury 4 BD NYC Times Sq Apartment   3185905   \n",
       "3598  2150727                1500 sq ft apt sleeps 8 - SuperBowl   5579700   \n",
       "3622  2169765                          Lower Park Avenue Pre War   8258307   \n",
       "3637  2186452                    Tribeca Loft for Superbowl Wknd  10636508   \n",
       "3684  2217398                     226 E 29th St, NY - Super Bowl  11312158   \n",
       "3695  2224896                NYC SuperBowl Wk 5 Bdrs River View   11353904   \n",
       "3702  2231814                Modern Luxury Meets Old Money Charm    112879   \n",
       "3720  2243699                SuperBowl Penthouse Loft 3,000 sqft   1483320   \n",
       "3721  2243769                 Super Bowl New York City Apartment  11460768   \n",
       "3723  2243984                      Superbowl in the West Village  11461854   \n",
       "3731  2250170                Spacious/New 3 Bedroom East Village  11492501   \n",
       "3732  2250372                  Huge 3BR Penthouse, Private Roof!  11490872   \n",
       "\n",
       "     neighbourhood_group  price  minimum_nights  \n",
       "1105           Manhattan   1300               1  \n",
       "2236            Brooklyn   1395               1  \n",
       "2520            Brooklyn   1500               1  \n",
       "2698           Manhattan   5000               1  \n",
       "2772           Manhattan   1100               2  \n",
       "2896           Manhattan   1200               1  \n",
       "3131           Manhattan   1700               1  \n",
       "3306           Manhattan   1999               1  \n",
       "3333           Manhattan   1500               1  \n",
       "3598           Manhattan   2000               1  \n",
       "3622           Manhattan   2000               1  \n",
       "3637           Manhattan   1500               1  \n",
       "3684           Manhattan   1500               1  \n",
       "3695           Manhattan   4000               1  \n",
       "3702            Brooklyn   1200               1  \n",
       "3720           Manhattan   5250               1  \n",
       "3721           Manhattan   1500               1  \n",
       "3723           Manhattan   1500               1  \n",
       "3731           Manhattan   1500               1  \n",
       "3732           Manhattan   1550               2  "
      ]
     },
     "execution_count": 34,
     "metadata": {},
     "output_type": "execute_result"
    }
   ],
   "source": [
    "df_sorted.head(20)"
   ]
  },
  {
   "cell_type": "code",
   "execution_count": 35,
   "id": "dcf6b3d5-c87c-4336-8053-27ddf4a57680",
   "metadata": {
    "tags": []
   },
   "outputs": [
    {
     "name": "stdout",
     "output_type": "stream",
     "text": [
      "<class 'pandas.core.frame.DataFrame'>\n",
      "Index: 122 entries, 1105 to 48535\n",
      "Data columns (total 6 columns):\n",
      " #   Column               Non-Null Count  Dtype \n",
      "---  ------               --------------  ----- \n",
      " 0   id                   122 non-null    int64 \n",
      " 1   name                 122 non-null    object\n",
      " 2   host_id              122 non-null    int64 \n",
      " 3   neighbourhood_group  122 non-null    object\n",
      " 4   price                122 non-null    int64 \n",
      " 5   minimum_nights       122 non-null    int64 \n",
      "dtypes: int64(4), object(2)\n",
      "memory usage: 6.7+ KB\n"
     ]
    }
   ],
   "source": [
    "df_sorted.info()"
   ]
  },
  {
   "cell_type": "code",
   "execution_count": 36,
   "id": "1e819a46-ce94-4331-bd4a-2a9206f31875",
   "metadata": {
    "tags": []
   },
   "outputs": [],
   "source": [
    "# So we have 122 entries that meet the requested conditions, and once again we can save the final dataframe as a csv for reporting\n",
    "df_sorted.to_csv(\"Promoted Airbnb Luxury Units\")"
   ]
  }
 ],
 "metadata": {
  "kernelspec": {
   "display_name": "Python 3 (ipykernel)",
   "language": "python",
   "name": "python3"
  },
  "language_info": {
   "codemirror_mode": {
    "name": "ipython",
    "version": 3
   },
   "file_extension": ".py",
   "mimetype": "text/x-python",
   "name": "python",
   "nbconvert_exporter": "python",
   "pygments_lexer": "ipython3",
   "version": "3.11.5"
  }
 },
 "nbformat": 4,
 "nbformat_minor": 5
}
